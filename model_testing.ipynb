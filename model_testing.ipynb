{
 "cells": [
  {
   "cell_type": "code",
   "execution_count": 1,
   "metadata": {},
   "outputs": [
    {
     "name": "stdout",
     "output_type": "stream",
     "text": [
      "WARNING:tensorflow:From C:\\Users\\bujiw\\AppData\\Local\\Temp\\ipykernel_52432\\3889204627.py:33: The name tf.logging.set_verbosity is deprecated. Please use tf.compat.v1.logging.set_verbosity instead.\n",
      "\n"
     ]
    }
   ],
   "source": [
    "import tensorflow as tf2\n",
    "assert tf2.__version__ >= \"2.0\"\n",
    "import numpy as np\n",
    "from scipy.stats import norm\n",
    "import matplotlib.pyplot as plt\n",
    "import time\n",
    "from tqdm import tqdm_notebook\n",
    "import warnings\n",
    "warnings.filterwarnings('ignore')\n",
    "import pandas as pd \n",
    "from tqdm import tqdm\n",
    "from multiprocessing import Pool\n",
    "from sklearn.model_selection import train_test_split\n",
    "from sklearn.decomposition import PCA\n",
    "from tensorflow.keras.models import load_model\n",
    "from tensorflow.keras.losses import MeanSquaredError\n",
    "from concurrent.futures import ProcessPoolExecutor, as_completed\n",
    "from multiprocessing import Manager\n",
    "import random\n",
    "import os\n",
    "from scipy.integrate import quad_vec  # quad_vec allows to compute integrals accurately\n",
    "from scipy.stats import norm\n",
    "from scipy.stats import qmc # to perform Latin Hypercube Sampling (LHS) \n",
    "import pandas as pd \n",
    "\n",
    "def set_random_seed(seed=42):\n",
    "    tf.compat.v1.set_random_seed(seed)\n",
    "    np.random.seed(seed)\n",
    "    random.seed(seed)\n",
    "\n",
    "os.environ['TF_CPP_MIN_LOG_LEVEL'] = '2'  # Suppress INFO and WARNING logs\n",
    "tf = tf2.compat.v1\n",
    "tf.logging.set_verbosity(tf.logging.ERROR)\n",
    "set_random_seed()\n",
    "real_type = tf.float32\n",
    "\n",
    "## Load the dataset\n",
    "feller_data = pd.read_csv('data//feller_d2.csv')\n",
    "\n",
    "## Obtain 2nd order differentials and their PCs\n",
    "second_differentials = feller_data.iloc[:,-36:]\n",
    "normalized_zscore = (second_differentials - second_differentials.mean()) / second_differentials.std()\n",
    "pca_d2 = PCA(n_components=15)\n",
    "second_differential_label = pca_d2.fit_transform(normalized_zscore[:9000])\n",
    "\n",
    "## Train-test Split (90-10)\n",
    "feller_testing = feller_data.iloc[9000:]\n",
    "feller_data = feller_data.iloc[:9000]\n",
    "\n",
    "training_col = feller_data.columns[:8]\n",
    "training_target = feller_data.columns[9]\n",
    "network_inputs = feller_data[training_col].values\n",
    "network_outputs = feller_data[training_target].values\n",
    "\n",
    "func_names = [\"lm\", \"r\", \"tau\", \"theta\", \"sigma\", \"rho\", \"kappa\", \"v0\"]\n",
    "network_inputs = feller_data[func_names]\n",
    "option_prices = feller_data['P_hat']\n",
    "network_first_order = feller_data[[f\"diff wrt {col}\" for col in func_names]].values\n",
    "sec_order_names = []\n",
    "for i in func_names:\n",
    "    for j in func_names:\n",
    "        if os.path.exists(f\"data//d2_{i}_{j}.csv\"):\n",
    "            sec_order_names.append(f\"d2_{i}_{j}\")\n",
    "network_second_order = feller_data[[f\"{col}\" for col in sec_order_names]].values\n",
    "\n",
    "\n",
    "## Load the training records\n",
    "combined_df = pd.read_csv(\"results//learning_history.csv\")"
   ]
  },
  {
   "cell_type": "code",
   "execution_count": 2,
   "metadata": {},
   "outputs": [],
   "source": [
    "def compute_grad_model1(model, raw_inputs):\n",
    "    with tf.GradientTape(persistent=True) as tape:\n",
    "        tape.watch(raw_inputs) \n",
    "        option_price = model(raw_inputs)  \n",
    "    first_order_differential = tape.gradient(option_price, raw_inputs)\n",
    "    return option_price, first_order_differential\n",
    "\n",
    "def compute_grad_model2(model, raw_inputs):\n",
    "    with tf.GradientTape(persistent=True) as tape:\n",
    "        tape.watch(raw_inputs) \n",
    "        option_price = model(raw_inputs)\n",
    "    first_order_differential = tape.gradient(option_price, raw_inputs)\n",
    "    return option_price, first_order_differential\n",
    "def compute_grad_model3(model, raw_inputs):\n",
    "    with tf.GradientTape(persistent=True) as tape:\n",
    "        tape.watch(raw_inputs) \n",
    "        option_price, second_order_diff = model(raw_inputs)\n",
    "    first_order_differential = tape.gradient(option_price, raw_inputs)\n",
    "    return option_price, first_order_differential, second_order_diff\n",
    "\n",
    "def compute_grad_model4(model, raw_inputs):\n",
    "    with tf.GradientTape(persistent=True) as tape:\n",
    "        tape.watch(raw_inputs) \n",
    "        option_price, second_order_diff = model(raw_inputs)  \n",
    "    first_order_differential = tape.gradient(option_price, raw_inputs)\n",
    "    return option_price, first_order_differential, second_order_diff"
   ]
  },
  {
   "cell_type": "markdown",
   "metadata": {},
   "source": [
    "Performance of Model 1"
   ]
  },
  {
   "cell_type": "code",
   "execution_count": 3,
   "metadata": {},
   "outputs": [
    {
     "name": "stdout",
     "output_type": "stream",
     "text": [
      "Total Loss: $0.181\n",
      "Price Loss: $0.069\n",
      "1st Order Differential Loss: $0.224\n"
     ]
    }
   ],
   "source": [
    "subset_0_1 = combined_df[(combined_df['source'] == 'history1')]\n",
    "starting_point = 0\n",
    "total_loss = subset_0_1[\"total_loss\"].values[starting_point:][-1]\n",
    "price_loss = subset_0_1[\"price_loss\"].values[starting_point:][-1]\n",
    "first_order_loss = subset_0_1[\"first_order_loss\"].values[starting_point:][-1]\n",
    "\n",
    "print(f\"Total Loss: ${total_loss:.3f}\")\n",
    "print(f\"Price Loss: ${price_loss:.3f}\")\n",
    "print(f\"1st Order Differential Loss: ${first_order_loss:.3f}\")\n"
   ]
  },
  {
   "cell_type": "markdown",
   "metadata": {},
   "source": [
    "Performance of Model 2\n"
   ]
  },
  {
   "cell_type": "code",
   "execution_count": 4,
   "metadata": {},
   "outputs": [
    {
     "name": "stdout",
     "output_type": "stream",
     "text": [
      "Total Loss: $0.078\n",
      "Price Loss: $0.070\n",
      "1st Order Differential Loss: $0.075\n",
      "Total Loss: $0.090\n",
      "Price Loss: $0.075\n",
      "1st Order Differential Loss: $0.030\n",
      "Total Loss: $0.088\n",
      "Price Loss: $0.076\n",
      "1st Order Differential Loss: $0.017\n"
     ]
    }
   ],
   "source": [
    "subset_0_1 = combined_df[(combined_df['source'] == 'history2')].groupby(['lambda1'])\n",
    "starting_point = 0\n",
    "lambda_keys = [0.1, 0.5, 0.7]\n",
    "\n",
    "for i in lambda_keys:\n",
    "    total_loss = subset_0_1.get_group(i)[\"total_loss\"].values[starting_point:][-1]\n",
    "    price_loss = subset_0_1.get_group(i)[\"price_loss\"].values[starting_point:][-1]\n",
    "    first_order_loss = subset_0_1.get_group(i)[\"first_order_loss\"].values[starting_point:][-1]\n",
    "    print(f\"Total Loss: ${total_loss:.3f}\")\n",
    "    print(f\"Price Loss: ${price_loss:.3f}\")\n",
    "    print(f\"1st Order Differential Loss: ${first_order_loss:.3f}\")\n"
   ]
  },
  {
   "cell_type": "markdown",
   "metadata": {},
   "source": [
    "Performance of Model 3"
   ]
  },
  {
   "cell_type": "code",
   "execution_count": 20,
   "metadata": {},
   "outputs": [
    {
     "name": "stdout",
     "output_type": "stream",
     "text": [
      "   Lambda1  Lambda2  Total Loss  Price Loss  1st Order Loss  2nd Order Loss\n",
      "0      0.1      0.1    0.224117    0.070678        0.069237        1.465150\n",
      "1      0.1      0.5    0.302010    0.071235        0.041287        0.453294\n",
      "2      0.1      0.7    0.289425    0.079906        0.039647        0.293649\n",
      "3      0.5      0.1    0.107951    0.074218        0.013145        0.271608\n",
      "4      0.5      0.5    0.169962    0.073988        0.012880        0.179066\n",
      "5      0.5      0.7    0.174212    0.073952        0.012480        0.134314\n",
      "6      0.7      0.1    0.094249    0.075086        0.008926        0.129141\n",
      "7      0.7      0.5    0.129983    0.075026        0.009103        0.097169\n",
      "8      0.7      0.7    0.137508    0.075077        0.009026        0.080161\n"
     ]
    }
   ],
   "source": [
    "subset_0_1 = combined_df[(combined_df['source'] == 'history4')].groupby(['lambda1', 'lambda2'])\n",
    "starting_point = 0\n",
    "lambda_keys = [0.1, 0.5, 0.7]\n",
    "\n",
    "table_data = []\n",
    "for i in lambda_keys:\n",
    "    for j in lambda_keys:\n",
    "        total_loss = subset_0_1.get_group((i, j))[\"total_loss\"].values[starting_point:][-1]\n",
    "        price_loss = subset_0_1.get_group((i, j))[\"price_loss\"].values[starting_point:][-1]\n",
    "        first_order_loss = subset_0_1.get_group((i, j))[\"first_order_loss\"].values[starting_point:][-1]\n",
    "        second_order_loss = subset_0_1.get_group((i, j))[\"second_order_loss\"].values[starting_point:][-1]\n",
    "        table_data.append([i,j,total_loss,price_loss,first_order_loss,second_order_loss])\n",
    "\n",
    "df = pd.DataFrame(table_data, columns=['Lambda1','Lambda2', 'Total Loss', 'Price Loss', '1st Order Loss', '2nd Order Loss'])\n",
    "print(df)"
   ]
  },
  {
   "cell_type": "markdown",
   "metadata": {},
   "source": [
    "Performance of Model 4"
   ]
  },
  {
   "cell_type": "code",
   "execution_count": 14,
   "metadata": {},
   "outputs": [
    {
     "name": "stdout",
     "output_type": "stream",
     "text": [
      "   Lambda1  Lambda2  Total Loss  Price Loss  1st Order Loss  2nd Order Loss\n",
      "0      0.1      0.1    0.156377    0.069493        0.095656        0.773187\n",
      "1      0.1      0.5    0.193802    0.070729        0.046152        0.236914\n",
      "2      0.1      0.7    0.187967    0.072102        0.033746        0.160700\n",
      "3      0.5      0.1    0.095559    0.073957        0.014795        0.142048\n",
      "4      0.5      0.5    0.120946    0.073790        0.013242        0.081070\n",
      "5      0.5      0.7    0.121179    0.073750        0.012878        0.058556\n",
      "6      0.7      0.1    0.087427    0.074938        0.009788        0.056373\n",
      "7      0.7      0.5    0.102068    0.074925        0.009545        0.040922\n",
      "8      0.7      0.7    0.102783    0.075139        0.009033        0.030459\n"
     ]
    }
   ],
   "source": [
    "subset_0_1 = combined_df[(combined_df['source'] == 'history3')].groupby(['lambda1', 'lambda2'])\n",
    "starting_point = 0\n",
    "lambda_keys = [0.1, 0.5, 0.7]\n",
    "\n",
    "table_data = []\n",
    "for i in lambda_keys:\n",
    "    for j in lambda_keys:\n",
    "        total_loss = subset_0_1.get_group((i, j))[\"total_loss\"].values[starting_point:][-1]\n",
    "        price_loss = subset_0_1.get_group((i, j))[\"price_loss\"].values[starting_point:][-1]\n",
    "        first_order_loss = subset_0_1.get_group((i, j))[\"first_order_loss\"].values[starting_point:][-1]\n",
    "        second_order_loss = subset_0_1.get_group((i, j))[\"second_order_loss\"].values[starting_point:][-1]\n",
    "        table_data.append([i,j, total_loss, price_loss, first_order_loss,second_order_loss])\n",
    "        # print(f\"Total Loss: ${total_loss:.3f}\")\n",
    "        # print(f\"Price Loss: ${price_loss:.3f}\")\n",
    "        # print(f\"1st Order Differential Loss: ${first_order_loss:.3f}\")\n",
    "        # print(f\"2nd Order Differential Loss: ${second_order_loss:.3f}\")\n",
    "\n",
    "df = pd.DataFrame(table_data, columns=['Lambda1','Lambda2', 'Total Loss', 'Price Loss', '1st Order Loss', '2nd Order Loss'])\n",
    "\n",
    "# Print the table\n",
    "print(df)\n"
   ]
  },
  {
   "cell_type": "markdown",
   "metadata": {},
   "source": [
    "Training Record"
   ]
  },
  {
   "cell_type": "code",
   "execution_count": 34,
   "metadata": {},
   "outputs": [
    {
     "data": {
      "image/png": "[encoded data removed]",
      "text/plain": [
       "<Figure size 640x480 with 2 Axes>"
      ]
     },
     "metadata": {},
     "output_type": "display_data"
    }
   ],
   "source": [
    "model_1 = combined_df[(combined_df['source'] == 'history1')]\n",
    "model_2 = combined_df[(combined_df['source'] == 'history2')].groupby(['lambda1']).get_group(0.1)\n",
    "model_3 = combined_df[(combined_df['source'] == 'history3')].groupby(['lambda1', 'lambda2']).get_group((0.1,0.1))\n",
    "model_4 = combined_df[(combined_df['source'] == 'history4')].groupby(['lambda1', 'lambda2']).get_group((0.1,0.1))\n",
    "\n",
    "fig, ax = plt.subplots(2,1)\n",
    "\n",
    "model_color = ['r','b','g','orange']\n",
    "for k, model in enumerate([model_1,model_2,model_3,model_4]):\n",
    "    truncated_end = 20\n",
    "    ax[0].plot(range(truncated_end),model['price_loss'][:truncated_end],color=model_color[k])\n",
    "    # truncated_end = 1000\n",
    "    ax[1].plot(range(1000),model['first_order_loss'][:1000],color=model_color[k])\n",
    "\n",
    "ax[0].legend([\"model 1\",\"model 2\",\"model 3\",\"model 4\"])\n",
    "ax[1].legend([\"model 1\",\"model 2\",\"model 3\",\"model 4\"])\n",
    "ax[0].set_title(f\"Price Error ($MSE_0$)\")\n",
    "ax[1].set_title(f\"First Order Differentials Error ($MSE_1$)\")\n",
    "ax[0].set_xlabel(\"epoch\")\n",
    "ax[1].set_xlabel(\"epoch\")\n",
    "plt.tight_layout()\n",
    "plt.savefig(\"results//training_error.png\")\n",
    "plt.show()"
   ]
  },
  {
   "cell_type": "markdown",
   "metadata": {},
   "source": [
    "Testing Performance"
   ]
  },
  {
   "cell_type": "code",
   "execution_count": 22,
   "metadata": {},
   "outputs": [],
   "source": [
    "feller_data = pd.read_csv('data//feller_d2.csv')\n",
    "feller_testing = feller_data.iloc[9000:]\n",
    "func_names = [\"lm\", \"r\", \"tau\", \"theta\", \"sigma\", \"rho\", \"kappa\", \"v0\"]\n",
    "testing_network_inputs = feller_testing[func_names]\n",
    "testing_option_prices = feller_testing['P_hat']\n",
    "testing_first_order = feller_testing[[f\"diff wrt {col}\" for col in func_names]].values"
   ]
  },
  {
   "cell_type": "code",
   "execution_count": 32,
   "metadata": {},
   "outputs": [
    {
     "name": "stderr",
     "output_type": "stream",
     "text": [
      "WARNING:absl:No training configuration found in the save file, so the model was *not* compiled. Compile it manually.\n",
      "WARNING:absl:No training configuration found in the save file, so the model was *not* compiled. Compile it manually.\n",
      "WARNING:absl:No training configuration found in the save file, so the model was *not* compiled. Compile it manually.\n",
      "WARNING:absl:No training configuration found in the save file, so the model was *not* compiled. Compile it manually.\n"
     ]
    },
    {
     "name": "stdout",
     "output_type": "stream",
     "text": [
      "Model 1: 0.069223,0.229037\n",
      "Model 2: 0.070697,0.077745\n",
      "Model 3: 0.070180,0.098862\n",
      "Model 4: 0.071455,0.071147\n"
     ]
    }
   ],
   "source": [
    "model1 = load_model(\"models//model1.h5\")\n",
    "predicted_price, predicted_first_order = compute_grad_model1(model1, tf.convert_to_tensor(testing_network_inputs))\n",
    "mse1 = np.average((predicted_first_order-testing_first_order)**2)\n",
    "mse0 = np.average((predicted_price-testing_option_prices)**2)\n",
    "print(f\"Model 1: {mse0:3f},{mse1:3f}\")\n",
    "model2 = load_model(\"models//model2_1.h5\")\n",
    "predicted_price, predicted_first_order = compute_grad_model2(model2, tf.convert_to_tensor(testing_network_inputs))\n",
    "mse1 = np.average((predicted_first_order-testing_first_order)**2)\n",
    "mse0 = np.average((predicted_price-testing_option_prices)**2)\n",
    "print(f\"Model 2: {mse0:3f},{mse1:3f}\")\n",
    "model3 = load_model(\"models//model3_1_1.h5\")\n",
    "predicted_price, predicted_first_order, _ = compute_grad_model3(model3, tf.convert_to_tensor(testing_network_inputs))\n",
    "mse1 = np.average((predicted_first_order-testing_first_order)**2)\n",
    "mse0 = np.average((predicted_price-testing_option_prices)**2)\n",
    "print(f\"Model 3: {mse0:3f},{mse1:3f}\")\n",
    "model4 = load_model(\"models//model4_1_1.h5\")\n",
    "predicted_price, predicted_first_order, _ = compute_grad_model4(model4, tf.convert_to_tensor(testing_network_inputs))\n",
    "mse1 = np.average((predicted_first_order-testing_first_order)**2)\n",
    "mse0 = np.average((predicted_price-testing_option_prices)**2)\n",
    "print(f\"Model 4: {mse0:3f},{mse1:3f}\")"
   ]
  }
 ],
 "metadata": {
  "kernelspec": {
   "display_name": "sys-trading",
   "language": "python",
   "name": "sys-trading"
  },
  "language_info": {
   "codemirror_mode": {
    "name": "ipython",
    "version": 3
   },
   "file_extension": ".py",
   "mimetype": "text/x-python",
   "name": "python",
   "nbconvert_exporter": "python",
   "pygments_lexer": "ipython3",
   "version": "3.9.16"
  }
 },
 "nbformat": 4,
 "nbformat_minor": 2
}
